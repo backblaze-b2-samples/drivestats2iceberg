{
 "cells": [
  {
   "cell_type": "code",
   "id": "initial_id",
   "metadata": {
    "collapsed": true,
    "ExecuteTime": {
     "end_time": "2024-12-18T02:02:40.489669Z",
     "start_time": "2024-12-18T02:02:39.776670Z"
    }
   },
   "source": [
    "from pyiceberg.catalog import load_catalog\n",
    "\n",
    "catalog = load_catalog()"
   ],
   "outputs": [],
   "execution_count": 1
  },
  {
   "metadata": {
    "ExecuteTime": {
     "end_time": "2024-12-18T02:04:01.006244Z",
     "start_time": "2024-12-18T02:04:00.852008Z"
    }
   },
   "cell_type": "code",
   "source": [
    "ns = catalog.list_namespaces()\n",
    "\n",
    "print(ns)"
   ],
   "id": "efc649ee9367d225",
   "outputs": [
    {
     "name": "stdout",
     "output_type": "stream",
     "text": [
      "[('default',), ('drivestats',), ('ds',)]\n"
     ]
    }
   ],
   "execution_count": 2
  },
  {
   "metadata": {
    "ExecuteTime": {
     "end_time": "2024-12-18T02:09:02.104943Z",
     "start_time": "2024-12-18T02:08:58.922650Z"
    }
   },
   "cell_type": "code",
   "source": [
    "from pyiceberg.schema import Schema\n",
    "from pyiceberg.types import (\n",
    "    TimestampType,\n",
    "    FloatType,\n",
    "    DoubleType,\n",
    "    StringType,\n",
    "    NestedField,\n",
    "    StructType,\n",
    ")\n",
    "\n",
    "schema = Schema(\n",
    "    NestedField(field_id=1, name=\"datetime\", field_type=TimestampType(), required=True),\n",
    "    NestedField(field_id=2, name=\"symbol\", field_type=StringType(), required=True),\n",
    "    NestedField(field_id=3, name=\"bid\", field_type=FloatType(), required=False),\n",
    "    NestedField(field_id=4, name=\"ask\", field_type=DoubleType(), required=False),\n",
    "    NestedField(\n",
    "        field_id=5,\n",
    "        name=\"details\",\n",
    "        field_type=StructType(\n",
    "            NestedField(\n",
    "                field_id=4, name=\"created_by\", field_type=StringType(), required=False\n",
    "            ),\n",
    "        ),\n",
    "        required=False,\n",
    "    ),\n",
    ")\n",
    "\n",
    "from pyiceberg.partitioning import PartitionSpec, PartitionField\n",
    "from pyiceberg.transforms import DayTransform\n",
    "\n",
    "partition_spec = PartitionSpec(\n",
    "    PartitionField(\n",
    "        source_id=1, field_id=1000, transform=DayTransform(), name=\"datetime_day\"\n",
    "    )\n",
    ")\n",
    "\n",
    "from pyiceberg.table.sorting import SortOrder, SortField\n",
    "from pyiceberg.transforms import IdentityTransform\n",
    "\n",
    "# Sort on the symbol\n",
    "sort_order = SortOrder(SortField(source_id=2, transform=IdentityTransform()))\n",
    "\n",
    "catalog.create_table(\n",
    "    identifier=\"drivestats.bids\",\n",
    "    schema=schema,\n",
    "    location=\"s3a://drivestats-iceberg/bids\",\n",
    "    partition_spec=partition_spec,\n",
    "    sort_order=sort_order,\n",
    ")"
   ],
   "id": "50feede8ef33861a",
   "outputs": [
    {
     "data": {
      "text/plain": [
       "bids(\n",
       "  1: datetime: required timestamp,\n",
       "  2: symbol: required string,\n",
       "  3: bid: optional float,\n",
       "  4: ask: optional double,\n",
       "  5: details: optional struct<6: created_by: optional string>\n",
       "),\n",
       "partition by: [datetime_day],\n",
       "sort order: [2 ASC NULLS FIRST],\n",
       "snapshot: null"
      ]
     },
     "execution_count": 5,
     "metadata": {},
     "output_type": "execute_result"
    }
   ],
   "execution_count": 5
  },
  {
   "metadata": {
    "ExecuteTime": {
     "end_time": "2024-12-18T18:05:37.018634Z",
     "start_time": "2024-12-18T18:05:37.006964Z"
    }
   },
   "cell_type": "code",
   "source": [
    "import pyarrow as pa\n",
    "\n",
    "df = pa.Table.from_pylist(\n",
    "    [\n",
    "        {\"city\": \"Amsterdam\", \"lat\": 52.371807, \"long\": 4.896029},\n",
    "        {\"city\": \"San Francisco\", \"lat\": 37.773972, \"long\": -122.431297},\n",
    "        {\"city\": \"Drachten\", \"lat\": 53.11254, \"long\": 6.0989},\n",
    "        {\"city\": \"Paris\", \"lat\": 48.864716, \"long\": 2.349014},\n",
    "    ],\n",
    ")"
   ],
   "id": "aae120f438eb8025",
   "outputs": [],
   "execution_count": 20
  },
  {
   "metadata": {
    "ExecuteTime": {
     "end_time": "2024-12-18T18:06:08.989813Z",
     "start_time": "2024-12-18T18:06:08.565306Z"
    }
   },
   "cell_type": "code",
   "source": [
    "from pyiceberg.catalog import load_catalog\n",
    "\n",
    "catalog = load_catalog(\"default\")\n",
    "\n",
    "tbl = catalog.load_table(\"drivestats.cities\")"
   ],
   "id": "79b83ca79513d7ba",
   "outputs": [],
   "execution_count": 21
  },
  {
   "metadata": {},
   "cell_type": "code",
   "outputs": [],
   "execution_count": null,
   "source": [
    "from pyiceberg.catalog import load_catalog\n",
    "\n",
    "catalog = load_catalog(\"default\")\n",
    "\n",
    "from pyiceberg.schema import Schema\n",
    "from pyiceberg.types import NestedField, StringType, DoubleType\n",
    "\n",
    "schema = Schema(\n",
    "    NestedField(1, \"city\", StringType(), required=False),\n",
    "    NestedField(2, \"lat\", DoubleType(), required=False),\n",
    "    NestedField(3, \"long\", DoubleType(), required=False),\n",
    ")\n",
    "\n",
    "tbl = catalog.create_table(\n",
    "    identifier=\"drivestats.cities\",\n",
    "    schema=schema,\n",
    "    location=\"s3a://drivestats-iceberg/cities\",\n",
    ")"
   ],
   "id": "a4c26dfc212a9dc1"
  },
  {
   "metadata": {
    "ExecuteTime": {
     "end_time": "2024-12-18T18:06:16.830023Z",
     "start_time": "2024-12-18T18:06:12.982127Z"
    }
   },
   "cell_type": "code",
   "source": [
    "tbl.append(df)\n",
    "# or\n",
    "# tbl.overwrite(df)"
   ],
   "id": "b3ca3c69b422dd86",
   "outputs": [],
   "execution_count": 22
  },
  {
   "metadata": {
    "ExecuteTime": {
     "end_time": "2024-12-18T18:06:18.727758Z",
     "start_time": "2024-12-18T18:06:17.898152Z"
    }
   },
   "cell_type": "code",
   "source": "tbl.scan().to_arrow()",
   "id": "ee80f56a4347260b",
   "outputs": [
    {
     "data": {
      "text/plain": [
       "pyarrow.Table\n",
       "city: large_string\n",
       "lat: double\n",
       "long: double\n",
       "----\n",
       "city: [[\"Amsterdam\",\"San Francisco\",\"Drachten\",\"Paris\"],[\"Amsterdam\",\"San Francisco\",\"Drachten\"],[\"Groningen\"]]\n",
       "lat: [[52.371807,37.773972,53.11254,48.864716],[52.371807,37.773972,53.11254],[53.21917]]\n",
       "long: [[4.896029,-122.431297,6.0989,2.349014],[4.896029,-122.431297,6.0989],[6.56667]]"
      ]
     },
     "execution_count": 23,
     "metadata": {},
     "output_type": "execute_result"
    }
   ],
   "execution_count": 23
  },
  {
   "metadata": {
    "ExecuteTime": {
     "end_time": "2024-12-18T02:14:59.190245Z",
     "start_time": "2024-12-18T02:14:56.262561Z"
    }
   },
   "cell_type": "code",
   "source": [
    "df = pa.Table.from_pylist(\n",
    "    [{\"city\": \"Groningen\", \"lat\": 53.21917, \"long\": 6.56667}],\n",
    ")\n",
    "\n",
    "tbl.append(df)"
   ],
   "id": "ca6f6b114dc1f893",
   "outputs": [],
   "execution_count": 11
  },
  {
   "metadata": {
    "ExecuteTime": {
     "end_time": "2024-12-18T02:15:41.279914Z",
     "start_time": "2024-12-18T02:15:36.459424Z"
    }
   },
   "cell_type": "code",
   "source": "tbl.delete(delete_filter=\"city == 'Paris'\")",
   "id": "1e5ee85aefe081f1",
   "outputs": [],
   "execution_count": 13
  },
  {
   "metadata": {
    "ExecuteTime": {
     "end_time": "2024-12-18T02:16:07.348061Z",
     "start_time": "2024-12-18T02:16:07.343446Z"
    }
   },
   "cell_type": "code",
   "source": "tbl.inspect.snapshots()",
   "id": "1a9a0ad7c98193c",
   "outputs": [
    {
     "data": {
      "text/plain": [
       "pyarrow.Table\n",
       "committed_at: timestamp[ms] not null\n",
       "snapshot_id: int64 not null\n",
       "parent_id: int64\n",
       "operation: string\n",
       "manifest_list: string not null\n",
       "summary: map<string, string>\n",
       "  child 0, entries: struct<key: string not null, value: string> not null\n",
       "      child 0, key: string not null\n",
       "      child 1, value: string\n",
       "----\n",
       "committed_at: [[2024-12-18 02:14:09.175,2024-12-18 02:14:57.526,2024-12-18 02:15:40.163]]\n",
       "snapshot_id: [[3715489976768252193,6382132783291269597,5555822186573786383]]\n",
       "parent_id: [[null,3715489976768252193,6382132783291269597]]\n",
       "operation: [[\"append\",\"append\",\"overwrite\"]]\n",
       "manifest_list: [[\"s3a://drivestats-iceberg/cities/metadata/snap-3715489976768252193-0-b29cc744-fbb4-45a6-8c25-e62bb0dff8d7.avro\",\"s3a://drivestats-iceberg/cities/metadata/snap-6382132783291269597-0-6da3aeb0-9fda-4cc5-8a77-86f7c757fcef.avro\",\"s3a://drivestats-iceberg/cities/metadata/snap-5555822186573786383-0-03b24080-0267-4bba-81e7-3ea8517ca850.avro\"]]\n",
       "summary: [[keys:[\"added-files-size\",\"added-data-files\",\"added-records\",\"total-data-files\",\"total-delete-files\",\"total-records\",\"total-files-size\",\"total-position-deletes\",\"total-equality-deletes\"]values:[\"1373\",\"1\",\"4\",\"1\",\"0\",\"4\",\"1373\",\"0\",\"0\"],keys:[\"added-files-size\",\"added-data-files\",\"added-records\",\"total-data-files\",\"total-delete-files\",\"total-records\",\"total-files-size\",\"total-position-deletes\",\"total-equality-deletes\"]values:[\"1275\",\"1\",\"1\",\"2\",\"0\",\"5\",\"2648\",\"0\",\"0\"],keys:[\"added-files-size\",\"removed-files-size\",\"added-data-files\",\"deleted-data-files\",\"added-records\",...,\"total-data-files\",\"total-records\",\"total-equality-deletes\",\"total-position-deletes\",\"total-files-size\"]values:[\"1348\",\"2648\",\"1\",\"2\",\"3\",...,\"1\",\"3\",\"0\",\"0\",\"1348\"]]]"
      ]
     },
     "execution_count": 15,
     "metadata": {},
     "output_type": "execute_result"
    }
   ],
   "execution_count": 15
  },
  {
   "metadata": {
    "ExecuteTime": {
     "end_time": "2024-12-18T02:16:24.869866Z",
     "start_time": "2024-12-18T02:16:24.331755Z"
    }
   },
   "cell_type": "code",
   "source": "tbl.inspect.partitions()",
   "id": "a98a35bc999f0a95",
   "outputs": [
    {
     "data": {
      "text/plain": [
       "pyarrow.Table\n",
       "record_count: int64 not null\n",
       "file_count: int32 not null\n",
       "total_data_file_size_in_bytes: int64 not null\n",
       "position_delete_record_count: int64 not null\n",
       "position_delete_file_count: int32 not null\n",
       "equality_delete_record_count: int64 not null\n",
       "equality_delete_file_count: int32 not null\n",
       "last_updated_at: timestamp[ms]\n",
       "last_updated_snapshot_id: int64\n",
       "----\n",
       "record_count: [[4]]\n",
       "file_count: [[2]]\n",
       "total_data_file_size_in_bytes: [[2623]]\n",
       "position_delete_record_count: [[0]]\n",
       "position_delete_file_count: [[0]]\n",
       "equality_delete_record_count: [[0]]\n",
       "equality_delete_file_count: [[0]]\n",
       "last_updated_at: [[2024-12-18 02:15:40.163]]\n",
       "last_updated_snapshot_id: [[5555822186573786383]]"
      ]
     },
     "execution_count": 16,
     "metadata": {},
     "output_type": "execute_result"
    }
   ],
   "execution_count": 16
  },
  {
   "metadata": {
    "ExecuteTime": {
     "end_time": "2024-12-18T02:16:45.573456Z",
     "start_time": "2024-12-18T02:16:45.151200Z"
    }
   },
   "cell_type": "code",
   "source": "tbl.inspect.entries()",
   "id": "8f4a5fe0c271db4d",
   "outputs": [
    {
     "data": {
      "text/plain": [
       "pyarrow.Table\n",
       "status: int8 not null\n",
       "snapshot_id: int64 not null\n",
       "sequence_number: int64 not null\n",
       "file_sequence_number: int64 not null\n",
       "data_file: struct<content: int8 not null, file_path: string not null, file_format: string not null, partition: struct<> not null, record_count: int64 not null, file_size_in_bytes: int64 not null, column_sizes: map<int32, int64>, value_counts: map<int32, int64>, null_value_counts: map<int32, int64>, nan_value_counts: map<int32, int64>, lower_bounds: map<int32, binary>, upper_bounds: map<int32, binary>, key_metadata: binary, split_offsets: list<item: int64>, equality_ids: list<item: int32>, sort_order_id: int32> not null\n",
       "  child 0, content: int8 not null\n",
       "  child 1, file_path: string not null\n",
       "  child 2, file_format: string not null\n",
       "  child 3, partition: struct<> not null\n",
       "  child 4, record_count: int64 not null\n",
       "  child 5, file_size_in_bytes: int64 not null\n",
       "  child 6, column_sizes: map<int32, int64>\n",
       "      child 0, entries: struct<key: int32 not null, value: int64> not null\n",
       "          child 0, key: int32 not null\n",
       "          child 1, value: int64\n",
       "  child 7, value_counts: map<int32, int64>\n",
       "      child 0, entries: struct<key: int32 not null, value: int64> not null\n",
       "          child 0, key: int32 not null\n",
       "          child 1, value: int64\n",
       "  child 8, null_value_counts: map<int32, int64>\n",
       "      child 0, entries: struct<key: int32 not null, value: int64> not null\n",
       "          child 0, key: int32 not null\n",
       "          child 1, value: int64\n",
       "  child 9, nan_value_counts: map<int32, int64>\n",
       "      child 0, entries: struct<key: int32 not null, value: int64> not null\n",
       "          child 0, key: int32 not null\n",
       "          child 1, value: int64\n",
       "  child 10, lower_bounds: map<int32, binary>\n",
       "      child 0, entries: struct<key: int32 not null, value: binary> not null\n",
       "          child 0, key: int32 not null\n",
       "          child 1, value: binary\n",
       "  child 11, upper_bounds: map<int32, binary>\n",
       "      child 0, entries: struct<key: int32 not null, value: binary> not null\n",
       "          child 0, key: int32 not null\n",
       "          child 1, value: binary\n",
       "  child 12, key_metadata: binary\n",
       "  child 13, split_offsets: list<item: int64>\n",
       "      child 0, item: int64\n",
       "  child 14, equality_ids: list<item: int32>\n",
       "      child 0, item: int32\n",
       "  child 15, sort_order_id: int32\n",
       "readable_metrics: struct<city: struct<column_size: int64, value_count: int64, null_value_count: int64, nan_value_count: int64, lower_bound: large_string, upper_bound: large_string> not null, lat: struct<column_size: int64, value_count: int64, null_value_count: int64, nan_value_count: int64, lower_bound: double, upper_bound: double> not null, long: struct<column_size: int64, value_count: int64, null_value_count: int64, nan_value_count: int64, lower_bound: double, upper_bound: double> not null>\n",
       "  child 0, city: struct<column_size: int64, value_count: int64, null_value_count: int64, nan_value_count: int64, lower_bound: large_string, upper_bound: large_string> not null\n",
       "      child 0, column_size: int64\n",
       "      child 1, value_count: int64\n",
       "      child 2, null_value_count: int64\n",
       "      child 3, nan_value_count: int64\n",
       "      child 4, lower_bound: large_string\n",
       "      child 5, upper_bound: large_string\n",
       "  child 1, lat: struct<column_size: int64, value_count: int64, null_value_count: int64, nan_value_count: int64, lower_bound: double, upper_bound: double> not null\n",
       "      child 0, column_size: int64\n",
       "      child 1, value_count: int64\n",
       "      child 2, null_value_count: int64\n",
       "      child 3, nan_value_count: int64\n",
       "      child 4, lower_bound: double\n",
       "      child 5, upper_bound: double\n",
       "  child 2, long: struct<column_size: int64, value_count: int64, null_value_count: int64, nan_value_count: int64, lower_bound: double, upper_bound: double> not null\n",
       "      child 0, column_size: int64\n",
       "      child 1, value_count: int64\n",
       "      child 2, null_value_count: int64\n",
       "      child 3, nan_value_count: int64\n",
       "      child 4, lower_bound: double\n",
       "      child 5, upper_bound: double\n",
       "----\n",
       "status: [[1,1]]\n",
       "snapshot_id: [[5555822186573786383,6382132783291269597]]\n",
       "sequence_number: [[3,2]]\n",
       "file_sequence_number: [[3,2]]\n",
       "data_file: [\n",
       "  -- is_valid: all not null\n",
       "  -- child 0 type: int8\n",
       "[0,0]\n",
       "  -- child 1 type: string\n",
       "[\"s3a://drivestats-iceberg/cities/data/00000-0-03b24080-0267-4bba-81e7-3ea8517ca850.parquet\",\"s3a://drivestats-iceberg/cities/data/00000-0-6da3aeb0-9fda-4cc5-8a77-86f7c757fcef.parquet\"]\n",
       "  -- child 2 type: string\n",
       "[\"PARQUET\",\"PARQUET\"]\n",
       "  -- child 3 type: struct<>\n",
       "    -- is_valid: all not null\n",
       "  -- child 4 type: int64\n",
       "[3,1]\n",
       "  -- child 5 type: int64\n",
       "[1348,1275]\n",
       "  -- child 6 type: map<int32, int64>\n",
       "[keys:[1,2,3]values:[131,127,127],keys:[1,2,3]values:[97,110,110]]\n",
       "  -- child 7 type: map<int32, int64>\n",
       "[keys:[1,2,3]values:[3,3,3],keys:[1,2,3]values:[1,1,1]]\n",
       "  -- child 8 type: map<int32, int64>\n",
       "[keys:[1,2,3]values:[0,0,0],keys:[1,2,3]values:[0,0,0]]\n",
       "  -- child 9 type: map<int32, int64>\n",
       "[keys:[]values:[],keys:[]values:[]]\n",
       "  -- child 10 type: map<int32, binary>\n",
       "[keys:[1,2,3]values:[416D7374657264616D,8602B68311E34240,3A77BB5E9A9B5EC0],keys:[1,2,3]values:[47726F6E696E67656E,D52137C30D9C4A40,4E7FF62345441A40]]\n",
       "  -- child 11 type: map<int32, binary>\n",
       "[keys:[1,2,3]values:[53616E204672616E636973636F,F5BEF1B5678E4A40,304CA60A46651840],keys:[1,2,3]values:[47726F6E696E67656E,D52137C30D9C4A40,4E7FF62345441A40]]\n",
       "  -- child 12 type: binary\n",
       "[null,null]\n",
       "  -- child 13 type: list<item: int64>\n",
       "[[4],[4]]\n",
       "  -- child 14 type: list<item: int32>\n",
       "[null,null]\n",
       "  -- child 15 type: int32\n",
       "[null,null]]\n",
       "readable_metrics: [\n",
       "  -- is_valid: all not null\n",
       "  -- child 0 type: struct<column_size: int64, value_count: int64, null_value_count: int64, nan_value_count: int64, lower_bound: large_string, upper_bound: large_string>\n",
       "    -- is_valid: all not null\n",
       "    -- child 0 type: int64\n",
       "[131,97]\n",
       "    -- child 1 type: int64\n",
       "[3,1]\n",
       "    -- child 2 type: int64\n",
       "[0,0]\n",
       "    -- child 3 type: int64\n",
       "[null,null]\n",
       "    -- child 4 type: large_string\n",
       "[\"Amsterdam\",\"Groningen\"]\n",
       "    -- child 5 type: large_string\n",
       "[\"San Francisco\",\"Groningen\"]\n",
       "  -- child 1 type: struct<column_size: int64, value_count: int64, null_value_count: int64, nan_value_count: int64, lower_bound: double, upper_bound: double>\n",
       "    -- is_valid: all not null\n",
       "    -- child 0 type: int64\n",
       "[127,110]\n",
       "    -- child 1 type: int64\n",
       "[3,1]\n",
       "    -- child 2 type: int64\n",
       "[0,0]\n",
       "    -- child 3 type: int64\n",
       "[null,null]\n",
       "    -- child 4 type: double\n",
       "[37.773972,53.21917]\n",
       "    -- child 5 type: double\n",
       "[53.11254,53.21917]\n",
       "  -- child 2 type: struct<column_size: int64, value_count: int64, null_value_count: int64, nan_value_count: int64, lower_bound: double, upper_bound: double>\n",
       "    -- is_valid: all not null\n",
       "    -- child 0 type: int64\n",
       "[127,110]\n",
       "    -- child 1 type: int64\n",
       "[3,1]\n",
       "    -- child 2 type: int64\n",
       "[0,0]\n",
       "    -- child 3 type: int64\n",
       "[null,null]\n",
       "    -- child 4 type: double\n",
       "[-122.431297,6.56667]\n",
       "    -- child 5 type: double\n",
       "[6.0989,6.56667]]"
      ]
     },
     "execution_count": 17,
     "metadata": {},
     "output_type": "execute_result"
    }
   ],
   "execution_count": 17
  },
  {
   "metadata": {
    "ExecuteTime": {
     "end_time": "2024-12-18T02:17:04.008633Z",
     "start_time": "2024-12-18T02:17:04.000946Z"
    }
   },
   "cell_type": "code",
   "source": "tbl.inspect.refs()",
   "id": "f358a451bff1d0d2",
   "outputs": [
    {
     "data": {
      "text/plain": [
       "pyarrow.Table\n",
       "name: string not null\n",
       "type: dictionary<values=string, indices=int32, ordered=0> not null\n",
       "snapshot_id: int64 not null\n",
       "max_reference_age_in_ms: int64\n",
       "min_snapshots_to_keep: int32\n",
       "max_snapshot_age_in_ms: int64\n",
       "----\n",
       "name: [[\"main\"]]\n",
       "type: [  -- dictionary:\n",
       "[\"BRANCH\"]  -- indices:\n",
       "[0]]\n",
       "snapshot_id: [[5555822186573786383]]\n",
       "max_reference_age_in_ms: [[null]]\n",
       "min_snapshots_to_keep: [[null]]\n",
       "max_snapshot_age_in_ms: [[null]]"
      ]
     },
     "execution_count": 18,
     "metadata": {},
     "output_type": "execute_result"
    }
   ],
   "execution_count": 18
  },
  {
   "metadata": {
    "ExecuteTime": {
     "end_time": "2024-12-18T18:06:56.763266Z",
     "start_time": "2024-12-18T18:06:56.355115Z"
    }
   },
   "cell_type": "code",
   "source": "tbl.inspect.files()",
   "id": "fa4078e598c628f4",
   "outputs": [
    {
     "data": {
      "text/plain": [
       "pyarrow.Table\n",
       "content: int8 not null\n",
       "file_path: string not null\n",
       "file_format: dictionary<values=string, indices=int32, ordered=0> not null\n",
       "spec_id: int32 not null\n",
       "record_count: int64 not null\n",
       "file_size_in_bytes: int64 not null\n",
       "column_sizes: map<int32, int64>\n",
       "  child 0, entries: struct<key: int32 not null, value: int64> not null\n",
       "      child 0, key: int32 not null\n",
       "      child 1, value: int64\n",
       "value_counts: map<int32, int64>\n",
       "  child 0, entries: struct<key: int32 not null, value: int64> not null\n",
       "      child 0, key: int32 not null\n",
       "      child 1, value: int64\n",
       "null_value_counts: map<int32, int64>\n",
       "  child 0, entries: struct<key: int32 not null, value: int64> not null\n",
       "      child 0, key: int32 not null\n",
       "      child 1, value: int64\n",
       "nan_value_counts: map<int32, int64>\n",
       "  child 0, entries: struct<key: int32 not null, value: int64> not null\n",
       "      child 0, key: int32 not null\n",
       "      child 1, value: int64\n",
       "lower_bounds: map<int32, binary>\n",
       "  child 0, entries: struct<key: int32 not null, value: binary> not null\n",
       "      child 0, key: int32 not null\n",
       "      child 1, value: binary\n",
       "upper_bounds: map<int32, binary>\n",
       "  child 0, entries: struct<key: int32 not null, value: binary> not null\n",
       "      child 0, key: int32 not null\n",
       "      child 1, value: binary\n",
       "key_metadata: binary\n",
       "split_offsets: list<item: int64>\n",
       "  child 0, item: int64\n",
       "equality_ids: list<item: int32>\n",
       "  child 0, item: int32\n",
       "sort_order_id: int32\n",
       "readable_metrics: struct<city: struct<column_size: int64, value_count: int64, null_value_count: int64, nan_value_count: int64, lower_bound: large_string, upper_bound: large_string> not null, lat: struct<column_size: int64, value_count: int64, null_value_count: int64, nan_value_count: int64, lower_bound: double, upper_bound: double> not null, long: struct<column_size: int64, value_count: int64, null_value_count: int64, nan_value_count: int64, lower_bound: double, upper_bound: double> not null>\n",
       "  child 0, city: struct<column_size: int64, value_count: int64, null_value_count: int64, nan_value_count: int64, lower_bound: large_string, upper_bound: large_string> not null\n",
       "      child 0, column_size: int64\n",
       "      child 1, value_count: int64\n",
       "      child 2, null_value_count: int64\n",
       "      child 3, nan_value_count: int64\n",
       "      child 4, lower_bound: large_string\n",
       "      child 5, upper_bound: large_string\n",
       "  child 1, lat: struct<column_size: int64, value_count: int64, null_value_count: int64, nan_value_count: int64, lower_bound: double, upper_bound: double> not null\n",
       "      child 0, column_size: int64\n",
       "      child 1, value_count: int64\n",
       "      child 2, null_value_count: int64\n",
       "      child 3, nan_value_count: int64\n",
       "      child 4, lower_bound: double\n",
       "      child 5, upper_bound: double\n",
       "  child 2, long: struct<column_size: int64, value_count: int64, null_value_count: int64, nan_value_count: int64, lower_bound: double, upper_bound: double> not null\n",
       "      child 0, column_size: int64\n",
       "      child 1, value_count: int64\n",
       "      child 2, null_value_count: int64\n",
       "      child 3, nan_value_count: int64\n",
       "      child 4, lower_bound: double\n",
       "      child 5, upper_bound: double\n",
       "----\n",
       "content: [[0,0,0]]\n",
       "file_path: [[\"s3a://drivestats-iceberg/cities/data/00000-0-c77f5dc3-04a0-4567-b1d5-b474d7eb6bad.parquet\",\"s3a://drivestats-iceberg/cities/data/00000-0-03b24080-0267-4bba-81e7-3ea8517ca850.parquet\",\"s3a://drivestats-iceberg/cities/data/00000-0-6da3aeb0-9fda-4cc5-8a77-86f7c757fcef.parquet\"]]\n",
       "file_format: [  -- dictionary:\n",
       "[\"PARQUET\"]  -- indices:\n",
       "[0,0,0]]\n",
       "spec_id: [[0,0,0]]\n",
       "record_count: [[4,3,1]]\n",
       "file_size_in_bytes: [[1373,1348,1275]]\n",
       "column_sizes: [[keys:[1,2,3]values:[140,135,135],keys:[1,2,3]values:[131,127,127],keys:[1,2,3]values:[97,110,110]]]\n",
       "value_counts: [[keys:[1,2,3]values:[4,4,4],keys:[1,2,3]values:[3,3,3],keys:[1,2,3]values:[1,1,1]]]\n",
       "null_value_counts: [[keys:[1,2,3]values:[0,0,0],keys:[1,2,3]values:[0,0,0],keys:[1,2,3]values:[0,0,0]]]\n",
       "nan_value_counts: [[keys:[]values:[],keys:[]values:[],keys:[]values:[]]]\n",
       "..."
      ]
     },
     "execution_count": 24,
     "metadata": {},
     "output_type": "execute_result"
    }
   ],
   "execution_count": 24
  },
  {
   "metadata": {},
   "cell_type": "code",
   "outputs": [],
   "execution_count": null,
   "source": "",
   "id": "298792042a6da77d"
  }
 ],
 "metadata": {
  "kernelspec": {
   "display_name": "Python 3",
   "language": "python",
   "name": "python3"
  },
  "language_info": {
   "codemirror_mode": {
    "name": "ipython",
    "version": 2
   },
   "file_extension": ".py",
   "mimetype": "text/x-python",
   "name": "python",
   "nbconvert_exporter": "python",
   "pygments_lexer": "ipython2",
   "version": "2.7.6"
  }
 },
 "nbformat": 4,
 "nbformat_minor": 5
}
